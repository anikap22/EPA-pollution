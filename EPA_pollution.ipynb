{
 "cells": [
  {
   "cell_type": "markdown",
   "metadata": {},
   "source": [
    "## U.S. EPA Pollution data analysis\n",
    "Data obtained from: https://www.kaggle.com/sogun3/uspollution#"
   ]
  },
  {
   "cell_type": "code",
   "execution_count": null,
   "metadata": {},
   "outputs": [],
   "source": [
    "#import libraries\n",
    "import pandas as pd\n",
    "import os\n",
    "import numpy as np\n",
    "import matplotlib.pyplot as plt\n",
    "%matplotlib inline\n",
    "import seaborn as sns\n",
    "sns.set_theme(style=\"darkgrid\")"
   ]
  },
  {
   "cell_type": "code",
   "execution_count": null,
   "metadata": {},
   "outputs": [],
   "source": [
    "#set working directory\n",
    "os.chdir('C:\\\\Users\\\\Anika\\\\Documents\\\\GradSchool\\\\Portfolio\\\\EPA_pollution')\n",
    "os.getcwd() #get wd"
   ]
  },
  {
   "cell_type": "code",
   "execution_count": null,
   "metadata": {},
   "outputs": [],
   "source": [
    "data = pd.read_csv(\"pollution_us_2000_2016.csv\")"
   ]
  },
  {
   "cell_type": "code",
   "execution_count": null,
   "metadata": {},
   "outputs": [],
   "source": [
    "list(data.columns) "
   ]
  },
  {
   "cell_type": "code",
   "execution_count": null,
   "metadata": {},
   "outputs": [],
   "source": [
    "data_top = data.head()\n",
    "data_top"
   ]
  },
  {
   "cell_type": "code",
   "execution_count": null,
   "metadata": {},
   "outputs": [],
   "source": [
    "# group by State, City, Date Local and get mean daily value of NO2 Mean, O3 Mean, SO2 Mean, CO Mean\n",
    "tbl = data.groupby(['State','City','Date Local']).agg(NO2 = ('NO2 Mean', 'mean'),\n",
    "                                                    O3 = ('O3 Mean', 'mean'),\n",
    "                                                    SO2 = ('SO2 Mean', 'mean'),\n",
    "                                                    CO = ('CO Mean', 'mean'),\n",
    "                                                    count = ('NO2 Mean', 'count')).reset_index()\n",
    "tbl.head()"
   ]
  },
  {
   "cell_type": "code",
   "execution_count": null,
   "metadata": {},
   "outputs": [],
   "source": [
    "tbl.describe()"
   ]
  },
  {
   "cell_type": "code",
   "execution_count": null,
   "metadata": {},
   "outputs": [],
   "source": [
    "tbl.info()"
   ]
  },
  {
   "cell_type": "code",
   "execution_count": null,
   "metadata": {},
   "outputs": [],
   "source": [
    "from datetime import date\n",
    "# convert the 'Date' column to datetime format\n",
    "tbl['Date Local']= pd.to_datetime(tbl['Date Local'])"
   ]
  },
  {
   "cell_type": "code",
   "execution_count": null,
   "metadata": {},
   "outputs": [],
   "source": [
    "#Extract year to a new column\n",
    "tbl['Year'] = pd.DatetimeIndex(tbl['Date Local']).year"
   ]
  },
  {
   "cell_type": "code",
   "execution_count": null,
   "metadata": {},
   "outputs": [],
   "source": [
    "print('number of cities:', tbl['City'].nunique())\n",
    "print('number of rows:', tbl.shape[0])"
   ]
  },
  {
   "cell_type": "code",
   "execution_count": null,
   "metadata": {},
   "outputs": [],
   "source": [
    "#histogram of each pollutant\n",
    "fig, axes = plt.subplots(1, 4)\n",
    "\n",
    "tbl.hist('NO2', bins=100, ax=axes[0])\n",
    "tbl.hist('SO2', bins=100, ax=axes[1])\n",
    "tbl.hist('O3', bins=100, ax=axes[2])\n",
    "tbl.hist('CO', bins=100, ax=axes[3])"
   ]
  },
  {
   "cell_type": "code",
   "execution_count": null,
   "metadata": {},
   "outputs": [],
   "source": [
    "n, bins, patches = plt.hist(tbl['NO2'], bins=90, facecolor='#2ab0ff', edgecolor='#e0e0e0', linewidth=0.5, alpha=0.7)\n",
    "\n",
    "n = n.astype('int') # it MUST be integer\n",
    "# Good old loop. Choose colormap of your taste\n",
    "for i in range(len(patches)):\n",
    "    patches[i].set_facecolor(plt.cm.viridis(n[i]/max(n)))\n",
    "# Make one bin stand out   \n",
    "patches[47].set_fc('red') # Set color\n",
    "patches[47].set_alpha(1) # Set opacity\n",
    "# Add annotation\n",
    "#plt.annotate('Important Bar!', xy=(0.57, 175), xytext=(2, 130), fontsize=15, arrowprops={'width':0.4,'headwidth':7,'color':'#333333'})\n",
    "# Add title and labels with custom font sizes\n",
    "plt.title('Hourly mean $NO_{2}$ pollution (ppb)', fontsize=12)\n",
    "plt.xlabel('$NO_{2}$ (ppb)', fontsize=10)\n",
    "plt.ylabel('Values', fontsize=10)\n",
    "plt.savefig('no2.png')\n",
    "plt.show()"
   ]
  },
  {
   "cell_type": "code",
   "execution_count": null,
   "metadata": {},
   "outputs": [],
   "source": [
    "#NO2 by month\n",
    "no2_by_year = tbl.groupby('Year').size()\n",
    "print(no2_by_year)\n",
    "#Plotting the Graph\n",
    "plot_by_year = no2_by_year.plot(title='Annual NO2',)\n",
    "plot_by_year.set_xlabel('Years')\n",
    "plot_by_year.set_ylabel('Total NO2')"
   ]
  },
  {
   "cell_type": "code",
   "execution_count": null,
   "metadata": {},
   "outputs": [],
   "source": [
    "#Get annual max pollution value for each city then plot\n",
    "tbl_year = tbl.groupby(['State','City','Year']).agg(NO2 = ('NO2', max),\n",
    "                                                    O3 = ('O3', max),\n",
    "                                                    SO2 = ('SO2', max),\n",
    "                                                    CO = ('CO', max)).reset_index()\n",
    "tbl_year.head()"
   ]
  },
  {
   "cell_type": "markdown",
   "metadata": {},
   "source": [
    "## Part 1: Relationship between each pairwise set of pollutants\n",
    "Note: good seaborn graphing tutorial at: https://seaborn.pydata.org/tutorial/relational.html"
   ]
  },
  {
   "cell_type": "code",
   "execution_count": null,
   "metadata": {},
   "outputs": [],
   "source": [
    "sns.relplot(x=\"NO2\", y=\"SO2\", data=tbl);"
   ]
  },
  {
   "cell_type": "code",
   "execution_count": null,
   "metadata": {},
   "outputs": [],
   "source": [
    "g = sns.relplot(x=\"NO2\", y=\"SO2\", hue=\"Year\", palette=\"ch:r=-.5,l=.75\", data=tbl_year);\n",
    "g.set_axis_labels('$NO_{2}$ (ppb)','$SO_{2}$ (ppb)')\n",
    "g.fig.suptitle(\"Relationship between $SO_{2}$ and $NO_{2}$ by year in U.S. cities\")\n",
    "g.savefig(\"so2-no2-year.png\")"
   ]
  },
  {
   "cell_type": "code",
   "execution_count": null,
   "metadata": {},
   "outputs": [],
   "source": [
    "#sns.lmplot(x=\"NO2\", y=\"SO2\", hue=\"Year\", palette=\"ch:r=-.5,l=.75\", data=tbl_year);"
   ]
  },
  {
   "cell_type": "code",
   "execution_count": null,
   "metadata": {},
   "outputs": [],
   "source": [
    "#sns.relplot(x=\"NO2\", y=\"Year\", hue=\"SO2\", palette=\"ch:r=-.5,l=.75\", data=tbl_year);"
   ]
  },
  {
   "cell_type": "code",
   "execution_count": null,
   "metadata": {},
   "outputs": [],
   "source": [
    "#fig, axs = plt.subplots(ncols=3)\n",
    "#sns.relplot(x='NO2', y='SO2', data=tbl, ax=axs[0])\n",
    "#sns.relplot(x='NO2', y='O3', data=tbl, ax=axs[1])\n",
    "#sns.relplot(x='NO2', y='CO', data=tbl, ax=axs[2])\n",
    "\n",
    "sns.relplot(x='NO2', y='SO2', data=tbl)"
   ]
  },
  {
   "cell_type": "markdown",
   "metadata": {},
   "source": [
    "## Part 2: Time series for 5 worst pollution cities"
   ]
  },
  {
   "cell_type": "code",
   "execution_count": null,
   "metadata": {},
   "outputs": [],
   "source": [
    "#get max pollution for each city\n",
    "tbl_city = tbl.groupby(['State','City']).agg(NO2 = ('NO2', max),\n",
    "                                            O3 = ('O3', max),\n",
    "                                            SO2 = ('SO2', max),\n",
    "                                            CO = ('CO', max)).reset_index()"
   ]
  },
  {
   "cell_type": "code",
   "execution_count": null,
   "metadata": {},
   "outputs": [],
   "source": [
    "tbl_city.head()"
   ]
  },
  {
   "cell_type": "code",
   "execution_count": null,
   "metadata": {},
   "outputs": [],
   "source": [
    "# five largest values in column \n",
    "top5_no2 = tbl_city.nlargest(5, ['NO2'])['City'].tolist()\n",
    "print('NO2:',top5_no2)\n",
    "top5_o3 = tbl_city.nlargest(5, ['O3'])['City'].tolist()\n",
    "print('O3:',top5_o3)\n",
    "top5_so2 = tbl_city.nlargest(5, ['SO2'])['City'].tolist()\n",
    "print('SO2:',top5_so2)\n",
    "top5_co = tbl_city.nlargest(5, ['CO'])['City'].tolist()\n",
    "print('CO:',top5_co)\n",
    "top5 = list(set(top5_no2) | set(top5_o3) | set(top5_so2) | set(top5_co))\n",
    "print('top list:', top5)"
   ]
  },
  {
   "cell_type": "code",
   "execution_count": null,
   "metadata": {},
   "outputs": [],
   "source": [
    "# make table with only cities in top 5 polluters for a category\n",
    "tbl_top = tbl[tbl['City'].isin(top5)]\n",
    "tbl_top.head()"
   ]
  },
  {
   "cell_type": "code",
   "execution_count": null,
   "metadata": {},
   "outputs": [],
   "source": [
    "# wide to long (so pollutants are a column we can facet over)\n",
    "tbl_top_long = pd.melt(tbl_top, id_vars=['State','City','Date Local','count','Year'], value_vars=['NO2','O3','SO2','CO'])\n",
    "tbl_top_long.head()"
   ]
  },
  {
   "cell_type": "code",
   "execution_count": null,
   "metadata": {},
   "outputs": [],
   "source": [
    "sns.set_theme(style=\"dark\")\n",
    "\n",
    "# Plot each pollutants's time series in its own facet\n",
    "g = sns.relplot(\n",
    "    data=tbl_top_long,\n",
    "    x=\"Date Local\", y=\"value\", col=\"variable\", hue=\"variable\",\n",
    "    kind=\"line\", palette=\"crest\", linewidth=4, zorder=5,\n",
    "    col_wrap=3, height=2, aspect=1.5, legend=False,\n",
    ")"
   ]
  },
  {
   "cell_type": "code",
   "execution_count": null,
   "metadata": {
    "scrolled": true
   },
   "outputs": [],
   "source": [
    "sns.set_theme(style=\"dark\")\n",
    "\n",
    "# Plot each pollutants's time series in its own facet\n",
    "g = sns.relplot(\n",
    "    data=tbl_top_long,\n",
    "    x=\"Date Local\", y=\"value\", col=\"variable\", hue=\"variable\",\n",
    "    kind=\"line\", palette=\"crest\", linewidth=4, zorder=5,\n",
    "    col_wrap=3, height=2, aspect=1.5, legend=False,\n",
    ")\n",
    "\n",
    "# Iterate over each subplot to customize further\n",
    "for year, ax in g.axes_dict.items():\n",
    "\n",
    "    # Add the title as an annotation within the plot\n",
    "    ax.text(.8, .85, year, transform=ax.transAxes, fontweight=\"bold\")\n",
    "\n",
    "    # Plot every year's time series in the background\n",
    "    sns.lineplot(\n",
    "        data=tbl_top_long, x=\"Date Local\", y=\"value\", units=\"Year\",\n",
    "        estimator=None, color=\".7\", linewidth=1, ax=ax,\n",
    "    )\n",
    "\n",
    "# Reduce the frequency of the x axis ticks\n",
    "ax.set_xticks(ax.get_xticks()[::2])\n",
    "\n",
    "# Tweak the supporting aspects of the plot\n",
    "g.set_titles(\"\")\n",
    "g.set_axis_labels(\"\", \"pollutant level\")\n",
    "g.tight_layout()"
   ]
  }
 ],
 "metadata": {
  "kernelspec": {
   "display_name": "Python 3",
   "language": "python",
   "name": "python3"
  },
  "language_info": {
   "codemirror_mode": {
    "name": "ipython",
    "version": 3
   },
   "file_extension": ".py",
   "mimetype": "text/x-python",
   "name": "python",
   "nbconvert_exporter": "python",
   "pygments_lexer": "ipython3",
   "version": "3.6.5-final"
  }
 },
 "nbformat": 4,
 "nbformat_minor": 2
}